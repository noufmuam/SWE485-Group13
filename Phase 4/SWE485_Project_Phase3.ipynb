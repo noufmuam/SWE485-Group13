{
  "cells": [
    {
      "cell_type": "markdown",
      "metadata": {
        "id": "KVez4-SZoLkP"
      },
      "source": [
        "## Travelling Salesman Problem using 2-opt Algorithm\n",
        "\n",
        "\n",
        "\n",
        "Resource: (https://github.com/adavis-85/Traveling-Salesman-2-opt-with-Visualization/blob/main/TSP%20Functions.jl)\n",
        "\n"
      ]
    },
    {
      "cell_type": "markdown",
      "metadata": {
        "id": "uhlMl4Wotzzo"
      },
      "source": [
        "User-input Version:"
      ]
    },
    {
      "cell_type": "code",
      "execution_count": null,
      "metadata": {
        "colab": {
          "base_uri": "https://localhost:8080/"
        },
        "id": "FRAxPasBpc1M",
        "outputId": "d55a5828-3687-4751-913e-e2670e99311e"
      },
      "outputs": [
        {
          "output_type": "stream",
          "name": "stdout",
          "text": [
            "Enter the number of cities: 4\n",
            "Enter the cost of the paths:\n",
            "Enter the cost of the path from (1, 2): 5\n",
            "Enter the cost of the path from (1, 3): 20\n",
            "Enter the cost of the path from (1, 4): 15\n",
            "Enter the cost of the path from (2, 1): 5\n",
            "Enter the cost of the path from (2, 3): 25\n",
            "Enter the cost of the path from (2, 4): 6\n",
            "Enter the cost of the path from (3, 1): 20\n",
            "Enter the cost of the path from (3, 2): 25\n",
            "Enter the cost of the path from (3, 4): 38\n",
            "Enter the cost of the path from (4, 1): 15\n",
            "Enter the cost of the path from (4, 2): 6\n",
            "Enter the cost of the path from (4, 3): 38\n",
            "Route: ['1', '3', '2', '4']\n",
            "Minimum Cost (Distance): 66\n",
            "Computational time: 6.914138793945312e-05 seconds\n"
          ]
        }
      ],
      "source": [
        "import random\n",
        "import matplotlib.pyplot as plt\n",
        "import time\n",
        "\n",
        "def total_distance(points, order, costs):\n",
        "    total = 0\n",
        "    for i in range(len(order)):\n",
        "        j = (i + 1) % len(order)\n",
        "        city1, city2 = order[i], order[j]\n",
        "        total += costs[points.index(city1)][points.index(city2)]\n",
        "    return total\n",
        "\n",
        "def two_opt_swap(route, i, j):\n",
        "    new_route = route[:i]\n",
        "    new_route.extend(reversed(route[i:j + 1]))\n",
        "    new_route.extend(route[j + 1:])\n",
        "    return new_route\n",
        "\n",
        "def two_opt(points, order, costs):\n",
        "    improved = True\n",
        "    best_distance = total_distance(points, order, costs)\n",
        "    while improved:\n",
        "        improved = False\n",
        "        for i in range(1, len(order) - 1):\n",
        "            for j in range(i + 1, len(order)):\n",
        "                new_order = two_opt_swap(order, i, j)\n",
        "                new_distance = total_distance(points, new_order, costs)\n",
        "                if new_distance < best_distance:\n",
        "                    order = new_order\n",
        "                    best_distance = new_distance\n",
        "                    improved = True\n",
        "                    break\n",
        "            if improved:\n",
        "                break\n",
        "    return order, best_distance\n",
        "\n",
        "\n",
        "# Driver Code\n",
        "if __name__ == \"__main__\":\n",
        "\n",
        "    # Prompt the user for the total number of cities to create an array\n",
        "    numOfCities = int(input(\"Enter the number of cities: \"))\n",
        "    cities = []\n",
        "    for x in range(numOfCities):\n",
        "        cities.append(str(x+1))\n",
        "\n",
        "    rows = cols = numOfCities\n",
        "\n",
        "    # Initialize a 2D array to store cities with their paths cost\n",
        "    costs = []\n",
        "\n",
        "    # Read array elements (cost of each path from node i to j)\n",
        "    print(\"Enter the cost of the paths:\")\n",
        "    for i in range(rows):\n",
        "        row = []\n",
        "        for j in range(cols):\n",
        "            # Prompt the user to input the value for each element\n",
        "            if i != j:\n",
        "                element = int(input(f\"Enter the cost of the path from ({i+1}, {j+1}): \"))\n",
        "            else:\n",
        "                element = -1\n",
        "            row.append(element)\n",
        "        costs.append(row)  # Append the row to the 'costs' list\n",
        "\n",
        "    start_time = time.time()\n",
        "\n",
        "    # Function Call\n",
        "    order = random.sample(cities, len(cities))  # Initialize order as a random permutation of city indices\n",
        "\n",
        "    optimized_route, optimized_sumOfCosts = two_opt(cities, order, costs)  # Apply 2-opt algorithm to improve the route\n",
        "\n",
        "    end_time = time.time()\n",
        "    elapsed_time = end_time - start_time\n",
        "\n",
        "    print(\"Route:\", optimized_route)\n",
        "    print(\"Minimum Cost (Distance):\", optimized_sumOfCosts)\n",
        "    print(f\"Computational time: {elapsed_time} seconds\")\n"
      ]
    },
    {
      "cell_type": "markdown",
      "metadata": {
        "id": "vtx8LtOat9fr"
      },
      "source": [
        "No User-input version:"
      ]
    },
    {
      "cell_type": "code",
      "execution_count": 7,
      "metadata": {
        "colab": {
          "base_uri": "https://localhost:8080/"
        },
        "id": "D02AIedolxKk",
        "outputId": "a357d083-c1e3-48bf-d385-8d965a3440f3"
      },
      "outputs": [
        {
          "output_type": "stream",
          "name": "stdout",
          "text": [
            "Route: ['1', '2', '4', '3']\n",
            "Minimum Cost (Distance): 80\n",
            "Computationl time: 0.00016832351684570312 seconds\n"
          ]
        }
      ],
      "source": [
        "import random\n",
        "import matplotlib.pyplot as plt\n",
        "import time\n",
        "\n",
        "def total_distance(points, order, costs):\n",
        "    total = 0\n",
        "    for i in range(len(order)):\n",
        "        j = (i + 1) % len(order)\n",
        "        city1, city2 = order[i], order[j]\n",
        "        total += costs[points.index(city1)][points.index(city2)]\n",
        "    return total\n",
        "\n",
        "def two_opt_swap(route, i, j):\n",
        "    new_route = route[:i]\n",
        "    new_route.extend(reversed(route[i:j + 1]))\n",
        "    new_route.extend(route[j + 1:])\n",
        "    return new_route\n",
        "\n",
        "def two_opt(points, order, costs):\n",
        "    improved = True\n",
        "    best_distance = total_distance(points, order, costs)\n",
        "    while improved:\n",
        "        improved = False\n",
        "        for i in range(1, len(order) - 1):\n",
        "            for j in range(i + 1, len(order)):\n",
        "                new_order = two_opt_swap(order, i, j)\n",
        "                new_distance = total_distance(points, new_order, costs)\n",
        "                if new_distance < best_distance:\n",
        "                    order = new_order\n",
        "                    best_distance = new_distance\n",
        "                    improved = True\n",
        "                    break\n",
        "            if improved:\n",
        "                break\n",
        "    return order, best_distance\n",
        "\n",
        "# Example usage:\n",
        "# Define cities and their costs\n",
        "cities = ['1', '2', '3', '4']\n",
        "costs = [\n",
        "    [0, 10, 15, 20],\n",
        "    [10, 0, 35, 25],\n",
        "    [15, 35, 0, 30],\n",
        "    [20, 25, 30, 0]\n",
        "]\n",
        "\n",
        "start_time = time.time()\n",
        "\n",
        "# Function Call\n",
        "order = random.sample(cities, len(cities)) # Initialize order as a random permutation of city indices\n",
        "\n",
        "\n",
        "optimized_route, optimized_sumOfCosts = two_opt(cities, order, costs) # Apply 2-opt algorithm to improve the route\n",
        "\n",
        "\n",
        "end_time = time.time()\n",
        "\n",
        "elapsed_time = end_time - start_time\n",
        "\n",
        "\n",
        "\n",
        "print(\"Route:\", optimized_route)\n",
        "print(\"Minimum Cost (Distance):\", optimized_sumOfCosts)\n",
        "print(f\"Computationl time: {elapsed_time} seconds\")\n",
        "\n",
        "\n",
        "\n",
        "\n"
      ]
    }
  ],
  "metadata": {
    "colab": {
      "provenance": []
    },
    "kernelspec": {
      "display_name": "Python 3",
      "name": "python3"
    },
    "language_info": {
      "name": "python"
    }
  },
  "nbformat": 4,
  "nbformat_minor": 0
}