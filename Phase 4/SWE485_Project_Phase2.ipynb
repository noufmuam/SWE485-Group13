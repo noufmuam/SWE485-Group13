{
  "cells": [
    {
      "cell_type": "markdown",
      "metadata": {
        "id": "rQSAWGAvq2RL"
      },
      "source": [
        "## Travelling Salesman Problem using Greedy Methodology\n",
        "With Nearest Neighbor Heuristic\n"
      ]
    },
    {
      "cell_type": "markdown",
      "metadata": {
        "id": "f-06WBTZ_vkO"
      },
      "source": [
        "Resource: (https://www.geeksforgeeks.org/travelling-salesman-problem-greedy-approach/\n",
        ")"
      ]
    },
    {
      "cell_type": "markdown",
      "source": [
        "User-input version:"
      ],
      "metadata": {
        "id": "9IJHN3H-ssvB"
      }
    },
    {
      "cell_type": "code",
      "source": [
        "from typing import DefaultDict\n",
        "import time\n",
        "\n",
        "INT_MAX = 2147483647\n",
        "\n",
        "def nearestNeighbor(tsp, firstCity):\n",
        "    visited = [False] * len(tsp)\n",
        "    route = [firstCity]\n",
        "    total_cost = 0\n",
        "\n",
        "    current_city = firstCity - 1\n",
        "    visited[current_city] = True\n",
        "\n",
        "    while len(route) < len(tsp):\n",
        "        min_cost = INT_MAX\n",
        "        next_city = None\n",
        "\n",
        "        for j in range(len(tsp[current_city])):\n",
        "            if not visited[j] and tsp[current_city][j] < min_cost:\n",
        "                min_cost = tsp[current_city][j]\n",
        "                next_city = j\n",
        "\n",
        "        if next_city is not None:\n",
        "            route.append(next_city + 1)\n",
        "            total_cost += min_cost\n",
        "            visited[next_city] = True\n",
        "            current_city = next_city\n",
        "        else:\n",
        "            break\n",
        "\n",
        "    # Add the cost to return to the starting city\n",
        "    total_cost += tsp[current_city][firstCity - 1]\n",
        "\n",
        "    print(\"Minimum Cost is:\", total_cost)\n",
        "    print(\"Route:\", route)\n",
        "\n",
        "\n",
        "if __name__ == \"__main__\":\n",
        "    numOfCities = int(input(\"Enter the number of cities: \"))\n",
        "    rows = cols = numOfCities\n",
        "\n",
        "    tsp = []\n",
        "\n",
        "    print(\"Enter the cost of the paths:\")\n",
        "    for i in range(rows):\n",
        "        row = []\n",
        "        for j in range(cols):\n",
        "            if i != j:\n",
        "                element = int(input(f\"Enter the cost of the path from ({i+1}, {j+1}): \"))\n",
        "            else:\n",
        "                element = -1\n",
        "            row.append(element)\n",
        "        tsp.append(row)\n",
        "\n",
        "    firstCity = int(input(\"Enter the first city to move from: \"))\n",
        "\n",
        "    start_time = time.time()\n",
        "    nearestNeighbor(tsp, firstCity)\n",
        "    end_time = time.time()\n",
        "\n",
        "    elapsed_time = end_time - start_time\n",
        "    print(f\"Computational time: {elapsed_time} seconds\")\n"
      ],
      "metadata": {
        "colab": {
          "base_uri": "https://localhost:8080/"
        },
        "id": "gOKypBNIOgfi",
        "outputId": "75441766-1994-400c-8170-526c22cff211"
      },
      "execution_count": null,
      "outputs": [
        {
          "output_type": "stream",
          "name": "stdout",
          "text": [
            "Enter the number of cities: 4\n",
            "Enter the cost of the paths:\n",
            "Enter the cost of the path from (1, 2): 5\n",
            "Enter the cost of the path from (1, 3): 20\n",
            "Enter the cost of the path from (1, 4): 15\n",
            "Enter the cost of the path from (2, 1): 5\n",
            "Enter the cost of the path from (2, 3): 25\n",
            "Enter the cost of the path from (2, 4): 6\n",
            "Enter the cost of the path from (3, 1): 20\n",
            "Enter the cost of the path from (3, 2): 25\n",
            "Enter the cost of the path from (3, 4): 38\n",
            "Enter the cost of the path from (4, 1): 15\n",
            "Enter the cost of the path from (4, 2): 6\n",
            "Enter the cost of the path from (4, 3): 38\n",
            "Enter the first city to move from: 3\n",
            "Minimum Cost is: 69\n",
            "Route: [3, 1, 2, 4]\n",
            "Computational time: 0.0026466846466064453 seconds\n"
          ]
        }
      ]
    },
    {
      "cell_type": "markdown",
      "source": [
        "No User input version:"
      ],
      "metadata": {
        "id": "8A3d2GCTS7pH"
      }
    },
    {
      "cell_type": "code",
      "source": [
        "from typing import DefaultDict\n",
        "import time\n",
        "\n",
        "INT_MAX = 2147483647\n",
        "\n",
        "def nearestNeighbor(tsp, firstCity):\n",
        "    visited = [False] * len(tsp)\n",
        "    route = [firstCity]\n",
        "    total_cost = 0\n",
        "\n",
        "    current_city = firstCity - 1\n",
        "    visited[current_city] = True\n",
        "\n",
        "    while len(route) < len(tsp):\n",
        "        min_cost = INT_MAX\n",
        "        next_city = None\n",
        "\n",
        "        for j in range(len(tsp[current_city])):\n",
        "            if not visited[j] and tsp[current_city][j] < min_cost:\n",
        "                min_cost = tsp[current_city][j]\n",
        "                next_city = j\n",
        "\n",
        "        if next_city is not None:\n",
        "            route.append(next_city + 1)\n",
        "            total_cost += min_cost\n",
        "            visited[next_city] = True\n",
        "            current_city = next_city\n",
        "        else:\n",
        "            break\n",
        "\n",
        "    # Add the cost to return to the starting city\n",
        "    total_cost += tsp[current_city][firstCity - 1]\n",
        "\n",
        "    print(\"Minimum Cost is:\", total_cost)\n",
        "    print(\"Route:\", route)\n",
        "\n",
        "\n",
        "if __name__ == \"__main__\":\n",
        "    cities = ['1', '2', '3', '4']\n",
        "    costs = [\n",
        "        [0, 10, 15, 20],\n",
        "        [10, 0, 35, 25],\n",
        "        [15, 35, 0, 30],\n",
        "        [20, 25, 30, 0]\n",
        "    ]\n",
        "    numOfCities = len(cities)\n",
        "\n",
        "    firstCity = '1'  # Change this to specify the first city to move from\n",
        "\n",
        "    start_time = time.time()\n",
        "    nearestNeighbor(costs, int(firstCity))\n",
        "    end_time = time.time()\n",
        "\n",
        "    elapsed_time = end_time - start_time\n",
        "    print(f\"Computational time: {elapsed_time} seconds\")\n"
      ],
      "metadata": {
        "colab": {
          "base_uri": "https://localhost:8080/"
        },
        "id": "9JqnembUS_di",
        "outputId": "68db64c7-e747-4ef2-fc95-6222a48229b1"
      },
      "execution_count": null,
      "outputs": [
        {
          "output_type": "stream",
          "name": "stdout",
          "text": [
            "Minimum Cost is: 80\n",
            "Route: [1, 2, 4, 3]\n",
            "Computational time: 0.0031321048736572266 seconds\n"
          ]
        }
      ]
    }
  ],
  "metadata": {
    "colab": {
      "provenance": []
    },
    "kernelspec": {
      "display_name": "Python 3",
      "name": "python3"
    },
    "language_info": {
      "name": "python"
    }
  },
  "nbformat": 4,
  "nbformat_minor": 0
}